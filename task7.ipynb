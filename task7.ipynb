{
  "nbformat": 4,
  "nbformat_minor": 0,
  "metadata": {
    "colab": {
      "provenance": []
    },
    "kernelspec": {
      "name": "python3",
      "display_name": "Python 3"
    },
    "language_info": {
      "name": "python"
    }
  },
  "cells": [
    {
      "cell_type": "code",
      "execution_count": 1,
      "metadata": {
        "id": "HeyqhRjv8Ccf"
      },
      "outputs": [],
      "source": [
        "import sqlite3\n",
        "import pandas as pd\n",
        "import matplotlib.pyplot as plt"
      ]
    },
    {
      "cell_type": "code",
      "source": [],
      "metadata": {
        "id": "XZGwZPcr9G52"
      },
      "execution_count": null,
      "outputs": []
    },
    {
      "cell_type": "code",
      "source": [
        "conn = sqlite3.connect('sales.db')\n",
        "cursor = conn.cursor()"
      ],
      "metadata": {
        "id": "2_wx7MmF8hEA"
      },
      "execution_count": 2,
      "outputs": []
    },
    {
      "cell_type": "code",
      "source": [
        "cursor.execute('''CREATE TABLE IF NOT EXISTS sales (id INTEGER PRIMARY KEY,\n",
        "    product TEXT,\n",
        "    quantity INTEGER,\n",
        "    price REAL)''')"
      ],
      "metadata": {
        "colab": {
          "base_uri": "https://localhost:8080/"
        },
        "id": "tRSb33cB9d6i",
        "outputId": "c26d9130-2371-48fe-f174-3d3070373d3f"
      },
      "execution_count": 3,
      "outputs": [
        {
          "output_type": "execute_result",
          "data": {
            "text/plain": [
              "<sqlite3.Cursor at 0x7efcd11a7dc0>"
            ]
          },
          "metadata": {},
          "execution_count": 3
        }
      ]
    },
    {
      "cell_type": "code",
      "source": [
        " sample_data = [\n",
        "    (\"Apples\", 10, 1.20),\n",
        "    (\"Oranges\", 15, 0.80),\n",
        "    (\"Bananas\", 7, 0.50),\n",
        "    (\"Apples\", 5, 1.20),\n",
        "    (\"Oranges\", 10, 0.80),\n",
        "    (\"Bananas\", 12, 0.50),\n",
        "]"
      ],
      "metadata": {
        "id": "WWslQtHN9wmH"
      },
      "execution_count": 4,
      "outputs": []
    },
    {
      "cell_type": "code",
      "source": [
        "cursor.executemany(\"INSERT INTO sales (product, quantity, price) VALUES (?, ?, ?)\", sample_data)\n",
        "conn.commit()"
      ],
      "metadata": {
        "id": "H5QubwsG-7M7"
      },
      "execution_count": 5,
      "outputs": []
    },
    {
      "cell_type": "code",
      "source": [
        "q = \"\"\"SELECT product, SUM(quantity) AS total_qty, SUM(quantity * price) AS revenue\n",
        "FROM sales\n",
        "GROUP BY product\n",
        "\"\"\""
      ],
      "metadata": {
        "id": "2L6NqRyJ_Wh7"
      },
      "execution_count": 6,
      "outputs": []
    },
    {
      "cell_type": "code",
      "source": [
        "df = pd.read_sql_query(q, conn)\n",
        "\n",
        "print(\"Sales Summary:\")\n",
        "print(df)"
      ],
      "metadata": {
        "colab": {
          "base_uri": "https://localhost:8080/"
        },
        "id": "PQeJPw7gAigR",
        "outputId": "22564a6f-a04c-4b08-a721-8c0400befcc0"
      },
      "execution_count": 7,
      "outputs": [
        {
          "output_type": "stream",
          "name": "stdout",
          "text": [
            "Sales Summary:\n",
            "   product  total_qty  revenue\n",
            "0   Apples         15     18.0\n",
            "1  Bananas         19      9.5\n",
            "2  Oranges         25     20.0\n"
          ]
        }
      ]
    },
    {
      "cell_type": "code",
      "source": [
        "df.plot(kind='bar', x='product', y='revenue', legend=False, color='skyblue')\n",
        "plt.ylabel(\"Revenue ($)\")\n",
        "plt.title(\"Revenue by Product\")\n",
        "plt.tight_layout()\n",
        "plt.savefig(\"sales_chart.png\")\n",
        "plt.show()"
      ],
      "metadata": {
        "colab": {
          "base_uri": "https://localhost:8080/",
          "height": 487
        },
        "id": "z80vFOZWBCKu",
        "outputId": "053e7bff-bf08-4216-ef01-f28c2ad51797"
      },
      "execution_count": 8,
      "outputs": [
        {
          "output_type": "display_data",
          "data": {
            "text/plain": [
              "<Figure size 640x480 with 1 Axes>"
            ],
            "image/png": "[encoded data removed]"
          },
          "metadata": {}
        }
      ]
    },
    {
      "cell_type": "code",
      "source": [
        "conn.close()"
      ],
      "metadata": {
        "id": "0DfFNKQ_EL9C"
      },
      "execution_count": 9,
      "outputs": []
    },
    {
      "cell_type": "code",
      "source": [],
      "metadata": {
        "id": "5kuTO0J6Ebm9"
      },
      "execution_count": null,
      "outputs": []
    }
  ]
}